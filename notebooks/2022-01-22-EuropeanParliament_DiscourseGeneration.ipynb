{
 "cells": [
  {
   "cell_type": "markdown",
   "id": "1ce6b6f7",
   "metadata": {},
   "source": [
    "This notebook uses a GPT-2 model fine-tuned on the Spanish portion of the [Europarl corpus](https://www.statmt.org/europarl/) to interactively generate a discourse for the European Parliament."
   ]
  },
  {
   "cell_type": "markdown",
   "id": "06956f78",
   "metadata": {},
   "source": [
    "# Set up libraries and models"
   ]
  },
  {
   "cell_type": "code",
   "execution_count": 1,
   "id": "complex-sending",
   "metadata": {},
   "outputs": [],
   "source": [
    "import numpy as np\n",
    "import torch"
   ]
  },
  {
   "cell_type": "code",
   "execution_count": 2,
   "id": "forced-accountability",
   "metadata": {},
   "outputs": [],
   "source": [
    "# Set random seed for reproducibility\n",
    "def set_seed(seed):\n",
    "    np.random.seed(seed)\n",
    "    torch.manual_seed(seed)\n",
    "\n",
    "set_seed(55)"
   ]
  },
  {
   "cell_type": "code",
   "execution_count": 3,
   "id": "radical-society",
   "metadata": {},
   "outputs": [
    {
     "name": "stderr",
     "output_type": "stream",
     "text": [
      "Special tokens have been added in the vocabulary, make sure the associated word embeddings are fine-tuned or trained.\n"
     ]
    }
   ],
   "source": [
    "from transformers import pipeline\n",
    "from transformers import AutoTokenizer, AutoModelForCausalLM\n",
    "\n",
    "# Load the original tokenizer and the model fine-tuned on Europarl data\n",
    "tokenizer = AutoTokenizer.from_pretrained(\"PlanTL-GOB-ES/gpt2-base-bne\")\n",
    "\n",
    "model = AutoModelForCausalLM.from_pretrained('gpt2_PLANTL_base_ft_europarl', local_files_only=True)\n",
    "\n",
    "# Create text generation pipeline\n",
    "writer = pipeline('text-generation',model=model, tokenizer=tokenizer)"
   ]
  },
  {
   "cell_type": "markdown",
   "id": "52cd275e",
   "metadata": {},
   "source": [
    "# Define some helper functions for text generation"
   ]
  },
  {
   "cell_type": "code",
   "execution_count": 4,
   "id": "553eaa23",
   "metadata": {},
   "outputs": [],
   "source": [
    "def auto_write(prompt, max_len=50, num_seqs=5):\n",
    "    '''\n",
    "    Uses a text-generation pipeline to generate 'num_seqs' alternative continuations of the provided prompt\n",
    "    '''\n",
    "    current_len = tokenizer.encode(prompt, add_special_tokens=False, return_tensors=\"pt\").shape[1]\n",
    "    current_text_len = len(prompt)\n",
    "    texts = writer(prompt, max_length=(current_len + max_len), num_return_sequences=num_seqs, temperature=1.0, do_sample=True, top_k=50, top_p=0.95, repetition_penalty=2.0)\n",
    "    generated_options = []\n",
    "    for txt in texts:\n",
    "        new_text = txt['generated_text'][current_text_len:]\n",
    "        generated_options.append(new_text)\n",
    "        print(new_text + '\\n')\n",
    "    return generated_options"
   ]
  },
  {
   "cell_type": "code",
   "execution_count": 5,
   "id": "f20dd0af",
   "metadata": {},
   "outputs": [],
   "source": [
    "def select_alternative(previous_text, current_alternatives, sel, end_word=None):\n",
    "    '''\n",
    "    This auxiliary function is used to select one of the proposed alternatives and incorporate it to the discourse.\n",
    "    It is also possible to select a subset of the desired alternative by providing a substring to cut on\n",
    "    '''\n",
    "    # Select the provided alternative. Note that the function call uses 1-based indexing\n",
    "    new_text = current_alternatives[sel-1]\n",
    "    \n",
    "    # If a substring to cut the alternative was provided, take only the text up to that point\n",
    "    if end_word is not None:\n",
    "        idx = new_text.find(end_word)\n",
    "        new_text = new_text[: idx if idx > 0 else None]\n",
    "        \n",
    "    # Update the text and return the updated text and the previous text, so that we have a backup in case we make a mistake\n",
    "    updated_text = previous_text + new_text\n",
    "    return updated_text, previous_text"
   ]
  },
  {
   "cell_type": "code",
   "execution_count": 6,
   "id": "79055455",
   "metadata": {},
   "outputs": [],
   "source": [
    "def add_manually(previous_text, new_text):\n",
    "    '''\n",
    "    Manually adds some text to the discourse\n",
    "    '''\n",
    "    updated_text = previous_text + new_text\n",
    "    return updated_text, previous_text"
   ]
  },
  {
   "cell_type": "markdown",
   "id": "2d6a23de",
   "metadata": {},
   "source": [
    "# Let's write!"
   ]
  },
  {
   "cell_type": "code",
   "execution_count": 7,
   "id": "foster-clinic",
   "metadata": {},
   "outputs": [],
   "source": [
    "current_text = \"Muchas gracias Señora Presidenta. Con su permiso, me gustaría comenzar dando las gracias\""
   ]
  },
  {
   "cell_type": "code",
   "execution_count": 8,
   "id": "81649177",
   "metadata": {},
   "outputs": [
    {
     "name": "stdout",
     "output_type": "stream",
     "text": [
      " a todos los presentes por sus aportaciones positivas y constructivas durante la elaboración del informe sobre el Libro Verde de esta directiva que hoy nos ocupa: es un texto extremadamente importante para garantizar una mayor competencia leal con relación al abastecimiento eléctrico en toda Europa; constituye\n",
      "\n",
      " a sus Señorías por este debate tan importante y estimulante sobre los derechos de la mujer en el mundo moderno: \"Todo lo que he aprendido es absolutamente fundamental para nuestro futuro\". Creo necesario reconocer aquí algunos principios importantes cuya importancia se refleja principalmente hoy cuando\n",
      "\n",
      " al señor Marinescu por haber presentado un informe tan rápido y de una importancia capital sobre la iniciativa «Todo menos armas» en el que pedimos a los diputados del Parlamento Europeo (al contrario quizás) -que usted sabe- qué papel desempeñar dentro\n",
      "\n",
      " al Comisario por todo el trabajo que ha hecho en relación con la propuesta de un reglamento relativo a los servicios aéreos y marítimos para todos sus pasajeros; pero creo firmemente -y le rogaría recalcarlo- también coincido totalmente con usted\n",
      "\n",
      " a la Sra Doyle por el interesante informe y al Sr Whitehead que ha preparado una exposición tan amplia sobre este tema importante: no solo en relación con lo expuesto hoy aquí sino también haciendo uso del tiempo de palabra necesario para exponer un excelente\n",
      "\n"
     ]
    }
   ],
   "source": [
    "generated_options = auto_write(current_text)"
   ]
  },
  {
   "cell_type": "code",
   "execution_count": 9,
   "id": "4605a2aa",
   "metadata": {},
   "outputs": [],
   "source": [
    "current_text, backup_text = select_alternative(current_text, generated_options, 1, ';')"
   ]
  },
  {
   "cell_type": "code",
   "execution_count": 10,
   "id": "4362b17f",
   "metadata": {},
   "outputs": [
    {
     "name": "stdout",
     "output_type": "stream",
     "text": [
      "Muchas gracias Señora Presidenta. Con su permiso, me gustaría comenzar dando las gracias a todos los presentes por sus aportaciones positivas y constructivas durante la elaboración del informe sobre el Libro Verde de esta directiva que hoy nos ocupa: es un texto extremadamente importante para garantizar una mayor competencia leal con relación al abastecimiento eléctrico en toda Europa\n"
     ]
    }
   ],
   "source": [
    "print(current_text)"
   ]
  },
  {
   "cell_type": "code",
   "execution_count": 11,
   "id": "c7893d6c",
   "metadata": {},
   "outputs": [
    {
     "name": "stdout",
     "output_type": "stream",
     "text": [
      " -en mi opinión- tras cuatro décadas; especialmente teniendo claro también lo fundamental acerca nuestra política energética común dentro nuestros socios exteriores como son Rusia e Irán (que han desempeñado realmente uno papel clave) o países productores estratégicos importantes fuera pero muy dependientes actualmente tan\n",
      "\n",
      "; no solo eso sino también hay propuestas como ésta presentadas desde hace mucho tiempo destinadas especialmente respecto este sistema energético integrado lo cual contribuye notablemente tanto a mejorar nuestro suministro de electricidad (la propuesta inicial iba encaminada fundamentalmente precisamente aquí hacia hacer más estrictas exigencias) o\n",
      "\n",
      " mediante nuevas tecnologías; implica mejorar tanto aspectos tecnológicos como notecnológicos desde nuestro punto vista técnico o comercial –por ejemplo aquí, yo diría– debido también especialmente nuestros respectivos mercados públicos europeos -esto ya hay mucha gente muy poca cualificada-. El ponente ha\n",
      "\n",
      " -de hecho son muy importantes- así como salvaguardar más derechos relacionados directamente entre sí (el derecho social) dentro nuestra Comunidad Europea tanto desde fuera ya tal vez hasta ahora mismo mediante sistemas fiscales o incluso introduciendo nuevos impuestos directos e indirectos sin tener unas\n",
      "\n",
      "; supone establecer unos límites superiores comunes entre productos distintos -en particular nuevos competidores como Japón- pero también normas mínimas aplicables más allá donde haya escasez geográfica o tecnológica imperante desde hace muchos años ¿Cómo definiría mejor lo bien conocido? En cuanto esté\n",
      "\n"
     ]
    }
   ],
   "source": [
    "generated_options = auto_write(current_text)"
   ]
  },
  {
   "cell_type": "code",
   "execution_count": 12,
   "id": "62909f04",
   "metadata": {},
   "outputs": [],
   "source": [
    "current_text, backup_text = select_alternative(current_text, generated_options, 5, '?')"
   ]
  },
  {
   "cell_type": "code",
   "execution_count": 13,
   "id": "5da4c8a7",
   "metadata": {},
   "outputs": [],
   "source": [
    "current_text, backup_text = add_manually(current_text, '? En el último año, los ciudadanos europeos han experimentado \\\n",
    "una subida de los precios de la electricidad que resulta insoportable.')"
   ]
  },
  {
   "cell_type": "code",
   "execution_count": 14,
   "id": "9c47ad80",
   "metadata": {},
   "outputs": [
    {
     "name": "stdout",
     "output_type": "stream",
     "text": [
      "Muchas gracias Señora Presidenta. Con su permiso, me gustaría comenzar dando las gracias a todos los presentes por sus aportaciones positivas y constructivas durante la elaboración del informe sobre el Libro Verde de esta directiva que hoy nos ocupa: es un texto extremadamente importante para garantizar una mayor competencia leal con relación al abastecimiento eléctrico en toda Europa; supone establecer unos límites superiores comunes entre productos distintos -en particular nuevos competidores como Japón- pero también normas mínimas aplicables más allá donde haya escasez geográfica o tecnológica imperante desde hace muchos años ¿Cómo definiría mejor lo bien conocido? En el último año, los ciudadanos europeos han experimentado una subida de los precios de la electricidad que resulta insoportable.\n"
     ]
    }
   ],
   "source": [
    "print(current_text)"
   ]
  },
  {
   "cell_type": "code",
   "execution_count": 15,
   "id": "4bf3581e",
   "metadata": {},
   "outputs": [
    {
     "name": "stdout",
     "output_type": "stream",
     "text": [
      " Me satisface oírle afirmarlo claramente cuando se trata únicamente de algunos indicadores económicos muy importantes tanto nacionales, tal vez no sea posible predecir cuál va siendo cada día esa escalada concreta dentro nuestra Unión Europea, especialmente aquí mismo hasta este momento histórico antes ni cuándo\n",
      "\n",
      " El impacto medioambiental se ha detenido mientras tanto debido no solo nuestra propia atmósfera sino algunos sectores industriales particulares muy sensibles tales cómo grandes compañías petroleras internacionales e importantes suministradores domésticos como China llevan ya mucho tiempo pidiendo unas tarifas reducidas sin margen competitivo bajo ningún concepto\n",
      "\n",
      " Esta situación merece ser resaltada especialmente porque va acompañada igualmente clara e indiscutiblemente contraria tanto fuera del país vecino oriental (Rusia) cómo dentro Rusia; se puede constatar además otra forma aún mucho menos evidente de evolución económica relacionada directa no solo respecto –como\n",
      "\n",
      " Su primera reacción ha sido comparar tarifas eléctricas similares porque se trata sencillamente así debido precisamente ahora cuando están llegando demasiado rápidamente cantidades enormes antes incluso este momento crucial tanto aquí mismo dentro e inmediatamente anteriores fases finales! Los consumidores tienen derecho legalmente ya entonces solo hay cuatro\n",
      "\n",
      " Hoy ya no existe ninguna legislación comunitaria relativa específicamente solo porque hemos recibido señales muy claras procedentes directamente provenientes exclusivamente europeas cuando se adoptó estas directivas antiguas así presentadas fuera propuestas aquí mismo anteayer ayer tarde tanto delante concretamente ahora tras casi 20 meses después exactamente sólo hasta\n",
      "\n"
     ]
    }
   ],
   "source": [
    "generated_options = auto_write(current_text)"
   ]
  },
  {
   "cell_type": "code",
   "execution_count": 16,
   "id": "0a228b35",
   "metadata": {},
   "outputs": [],
   "source": [
    "text_v1 = current_text"
   ]
  },
  {
   "cell_type": "code",
   "execution_count": 17,
   "id": "7ee32442",
   "metadata": {},
   "outputs": [],
   "source": [
    "current_text = \"En el último año, los ciudadanos europeos han experimentado una subida de los precios de la electricidad que resulta insoportable.\""
   ]
  },
  {
   "cell_type": "code",
   "execution_count": 18,
   "id": "64108537",
   "metadata": {},
   "outputs": [
    {
     "name": "stdout",
     "output_type": "stream",
     "text": [
      " Las compañías tienen problemas para encontrar a quienes les pagarán este servicio por adelantado y tendrán más dificultades en las redes eléctricas durante un período transitorio limitado -un tiempo considerable del cual deberían ser libres unos cuantos años- si no pueden utilizar su energía directamente con fuentes\n",
      "\n",
      " Las expectativas económicas para las energías renovables se sitúan en promedio tres veces más alto y cinco al día entre 2000 y 2008; además existe un déficit energético enorme -de 400 millones a 50 000 toneladas- debido principalmente ante todo por no haberse tomado medidas\n",
      "\n",
      " Por eso hay más gente en situación precaria y están menos protegidos frente a las subidas injustas del precio único eléctrico o gas natural con un nivel insostenible para sus familias e intereses particulares? ¿Vamos entonces hasta Europa Central; qué hemos hecho durante años al respecto\n",
      "\n",
      " Es comprensible por qué se trata simplemente a las personas mayores como pensionistas en un país con muy pocos ingresos y pocas capacidades: les corresponde pagar más energía para garantizar sus vidas diarias mientras van ganando dinero sin disponer del apoyo necesario al trabajo o su educación básica\n",
      "\n",
      " Aunque las cosas sigan así después del incremento en este caso concreto o durante muchos años y mientras nosotros continuamos trabajando a pleno rendimiento –y todavía hemos tenido más problemas– nuestro comportamiento es inaceptablemente diferente al habitual si lo comparamos con otros países por motivos exclusivamente\n",
      "\n"
     ]
    }
   ],
   "source": [
    "generated_options = auto_write(current_text)"
   ]
  },
  {
   "cell_type": "code",
   "execution_count": 19,
   "id": "085be85d",
   "metadata": {},
   "outputs": [],
   "source": [
    "current_text, backup_text = select_alternative(current_text, generated_options, 3, ' o gas')"
   ]
  },
  {
   "cell_type": "code",
   "execution_count": 20,
   "id": "00123349",
   "metadata": {},
   "outputs": [],
   "source": [
    "current_text, backup_text = add_manually(current_text, '.')"
   ]
  },
  {
   "cell_type": "code",
   "execution_count": 21,
   "id": "a2ac1700",
   "metadata": {},
   "outputs": [
    {
     "name": "stdout",
     "output_type": "stream",
     "text": [
      " La consecuencia es un aumento espectacular del coste económico al tiempo social para estos sectores vulnerables: por ejemplo trabajadores móviles o discapacitados físicos; grupos enteros -como pueden ser alumnos universitarios- son objeto frecuente e irreversible también porque no tienen cobertura eléctrica fija con tarifas únicas\n",
      "\n",
      " ¿Cuántos hogares se verán afectados esta noche por estas fluctuaciones?  Muchas personas podrían pensar sobre esto después o quizás no lo creerán ahora mismo; pero entonces será así: algunos sencillamente dirán \"no entiendo muy bien\". No tengo ninguna objeción\n",
      "\n",
      " Una sociedad europea competitiva tiene por lo tanto un gran interés para mantener al día esta oferta atractiva e incrementar así su competitividad futura desde dentro hacia fuera\". El objetivo final es proteger ese sector financiero también mediante unas nuevas reglas económicas transparentes destinadas esencialmente contraataques\n",
      "\n",
      " Y no es ninguna casualidad pues hemos sabido -y así va mi país- si un mayor número –yo incluida– tiene acceso o renta disponible al sistema energético nacional con independencia absoluta desde su Estado miembro por ejemplo pero muy principalmente hasta ciertas horas centrales;\n",
      "\n",
      " La Unión Europea debería elaborar medidas prácticas para garantizar su suministro energético sostenible e impedir mayores costes al consumidor sobre todo mediante un acceso mayor gratuito garantizado tanto por parte nacional como transfronterizo (acceso general o indirecto). Las fuentes naturales deben ser explotadas con éxito\n",
      "\n"
     ]
    }
   ],
   "source": [
    "generated_options = auto_write(current_text)"
   ]
  },
  {
   "cell_type": "code",
   "execution_count": 22,
   "id": "0f339984",
   "metadata": {},
   "outputs": [],
   "source": [
    "current_text, backup_text = select_alternative(current_text, generated_options, 5, ' Las fuentes')"
   ]
  },
  {
   "cell_type": "code",
   "execution_count": 23,
   "id": "e3290043",
   "metadata": {},
   "outputs": [],
   "source": [
    "current_text, backup_text = add_manually(current_text, ' Señorías, debemos')"
   ]
  },
  {
   "cell_type": "code",
   "execution_count": 24,
   "id": "eba510ba",
   "metadata": {},
   "outputs": [
    {
     "name": "stdout",
     "output_type": "stream",
     "text": [
      " apoyar firmemente estos esfuerzos con dinero público –no queremos financiarlos aquí ni tampoco financiarlos– pero no podemos renunciar ante tales hechos consumados: reducir nuestros suministros energéticos dentro nuestras fronteras actualmente sin tener recursos disponibles bajo gestión estatal también supone ayudar mucho; algo\n",
      "\n",
      " asegurarnos también con frecuencia -al igual que nosotros- entre nuestros proveedores principales –los Estados Unidos– pero no sin dificultades puesto que es precisamente gracias estas normas legislativas transnacionales europeas disponemos ahora mucho mejor desde hoy cuando se cumplen nuestras expectativas si nos aseguramos nuestra\n",
      "\n",
      " tomar esta decisión política sin diluirla: deberíamos empezar con tiempo suficiente antes incluso de lo inicialmente previsto -lo cual implica necesariamente tener mucho cuidado-, pero también porque no podemos imponer restricciones significativas si se requiere algún tipo incentivo adicional hasta 2013; primero debe\n",
      "\n",
      " mejorar nuestra capacidad competitiva interna entre consumidores directos vulnerables; además queremos establecer condiciones legales adecuadas destinadas únicamente con respecto también mejoradas contra aquellos nuevos monopolios estatales presentes fuera del marco europeo competitivo existente: mercados liberalizados locales abiertos hacia otras partes iguales dentro pero bajo\n",
      "\n",
      " fomentar esta seguridad energética junto con todas nuestras políticas comunes europeas; pero tenemos también nuestro deber: hacer posible ofrecer servicios públicos complementarios tales dentro nuestros proyectos energéticos locales si ellos mismos lo justifican -si no se puede decir así- hasta cubrir únicamente aquellas zonas donde\n",
      "\n"
     ]
    }
   ],
   "source": [
    "generated_options = auto_write(current_text)"
   ]
  },
  {
   "cell_type": "code",
   "execution_count": 25,
   "id": "e8f3d2bb",
   "metadata": {},
   "outputs": [],
   "source": [
    "current_text, backup_text = select_alternative(current_text, generated_options, 3, ':')"
   ]
  },
  {
   "cell_type": "code",
   "execution_count": 26,
   "id": "fe6494da",
   "metadata": {},
   "outputs": [],
   "source": [
    "current_text, backup_text = add_manually(current_text, '. Me gustaría concluir mi intervención agradeciendo nuevamente')"
   ]
  },
  {
   "cell_type": "code",
   "execution_count": 27,
   "id": "c6cc6494",
   "metadata": {},
   "outputs": [
    {
     "name": "stdout",
     "output_type": "stream",
     "text": [
      " no solo lo mucho ya logrado hasta ahora sino también mis esfuerzos constantes; esto es fundamental porque me permite estar hoy aquí con ustedes: les agradezco sinceramente nuestra cooperación parlamentaria tan constructiva siempre presente -siempre basada realmenteen usted, señor Wynn-. Nos\n",
      "\n",
      " públicamente dicha ayuda hacia usted realmente si ha tenido presente lo mucho importante -estoy hablando aquí hoy- así como pedirle encarecidamente toda nuestra atención respecto a sus esfuerzos incansables cuando fue necesario hace siete años ya desde 1993 para llegar hasta nuestro punto\n",
      "\n",
      " este compromiso con ustedes, también porque no siempre existe algo parecido entre nosotros pero podemos hacerlo muy bien cuando lo hacemos juntos desde hace mucho tiempo aquí: deberíamos decir \"sí\" hoy; votemos ahora contra cualquier nueva legislación acerca -esta vez es peor\n",
      "\n",
      " sus contribuciones muy útiles hacia este debate anual con ustedes porque les aseguro sinceramente -y considero especialmente significativo- cuán interesantes son estos debates tan amplios aquí hoy también cuando hablo junto conmigo misma –yo tengo experiencia propia– no sólo personalmente sino directamente otros parlamentarios;\n",
      "\n",
      " sus esfuerzos porque se hayan hecho mucho camino ya desde enero; pero no ha sido posible hasta ahora ni aquí ni aún después debido precisamente al alto coste de energía actual –que es muy elevado– sino durante este tiempo lo antes mencionada de diciembre anterior entre\n",
      "\n"
     ]
    }
   ],
   "source": [
    "generated_options = auto_write(current_text)"
   ]
  },
  {
   "cell_type": "code",
   "execution_count": 28,
   "id": "7ef5185c",
   "metadata": {},
   "outputs": [],
   "source": [
    "current_text, backup_text = select_alternative(current_text, generated_options, 5, ' porque')"
   ]
  },
  {
   "cell_type": "code",
   "execution_count": 29,
   "id": "2f9339d1",
   "metadata": {},
   "outputs": [],
   "source": [
    "current_text, backup_text = add_manually(current_text, '.\\nMuchas gracias.')"
   ]
  },
  {
   "cell_type": "code",
   "execution_count": 30,
   "id": "517f8b60",
   "metadata": {},
   "outputs": [
    {
     "name": "stdout",
     "output_type": "stream",
     "text": [
      "Muchas gracias Señora Presidenta. Con su permiso, me gustaría comenzar dando las gracias a todos los presentes por sus aportaciones positivas y constructivas durante la elaboración del informe sobre el Libro Verde de esta directiva que hoy nos ocupa: es un texto extremadamente importante para garantizar una mayor competencia leal con relación al abastecimiento eléctrico en toda Europa; supone establecer unos límites superiores comunes entre productos distintos -en particular nuevos competidores como Japón- pero también normas mínimas aplicables más allá donde haya escasez geográfica o tecnológica imperante desde hace muchos años ¿Cómo definiría mejor lo bien conocido? En el último año, los ciudadanos europeos han experimentado una subida de los precios de la electricidad que resulta insoportable.En el último año, los ciudadanos europeos han experimentado una subida de los precios de la electricidad que resulta insoportable. Por eso hay más gente en situación precaria y están menos protegidos frente a las subidas injustas del precio único eléctrico. La Unión Europea debería elaborar medidas prácticas para garantizar su suministro energético sostenible e impedir mayores costes al consumidor sobre todo mediante un acceso mayor gratuito garantizado tanto por parte nacional como transfronterizo (acceso general o indirecto). Señorías, debemos tomar esta decisión política sin diluirla. Me gustaría concluir mi intervención agradeciendo nuevamente sus esfuerzos.\n",
      "Muchas gracias.\n"
     ]
    }
   ],
   "source": [
    "final_text = text_v1 + current_text\n",
    "print(final_text)"
   ]
  },
  {
   "cell_type": "code",
   "execution_count": null,
   "id": "3e3a6b5a",
   "metadata": {},
   "outputs": [],
   "source": []
  }
 ],
 "metadata": {
  "kernelspec": {
   "display_name": "Python 3 (ipykernel)",
   "language": "python",
   "name": "python3"
  },
  "language_info": {
   "codemirror_mode": {
    "name": "ipython",
    "version": 3
   },
   "file_extension": ".py",
   "mimetype": "text/x-python",
   "name": "python",
   "nbconvert_exporter": "python",
   "pygments_lexer": "ipython3",
   "version": "3.9.7"
  }
 },
 "nbformat": 4,
 "nbformat_minor": 5
}
